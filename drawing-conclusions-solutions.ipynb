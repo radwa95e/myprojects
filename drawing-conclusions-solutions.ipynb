{
 "cells": [
  {
   "cell_type": "markdown",
   "metadata": {
    "collapsed": true
   },
   "source": [
    "# Drawing Conclusions\n",
    "Use the space below to address questions on datasets `clean_08.csv` and `clean_18.csv`"
   ]
  },
  {
   "cell_type": "code",
   "execution_count": 2,
   "metadata": {},
   "outputs": [],
   "source": [
    "import pandas as pd\n",
    "import matplotlib.pyplot as plt\n",
    "%matplotlib inline"
   ]
  },
  {
   "cell_type": "code",
   "execution_count": 3,
   "metadata": {},
   "outputs": [],
   "source": [
    "# load datasets\n",
    "df_08 = pd.read_csv('clean_08.csv')\n",
    "df_18 = pd.read_csv('clean_18.csv')"
   ]
  },
  {
   "cell_type": "code",
   "execution_count": 4,
   "metadata": {},
   "outputs": [
    {
     "data": {
      "text/html": [
       "<div>\n",
       "<style scoped>\n",
       "    .dataframe tbody tr th:only-of-type {\n",
       "        vertical-align: middle;\n",
       "    }\n",
       "\n",
       "    .dataframe tbody tr th {\n",
       "        vertical-align: top;\n",
       "    }\n",
       "\n",
       "    .dataframe thead th {\n",
       "        text-align: right;\n",
       "    }\n",
       "</style>\n",
       "<table border=\"1\" class=\"dataframe\">\n",
       "  <thead>\n",
       "    <tr style=\"text-align: right;\">\n",
       "      <th></th>\n",
       "      <th>model</th>\n",
       "      <th>displ</th>\n",
       "      <th>cyl</th>\n",
       "      <th>trans</th>\n",
       "      <th>drive</th>\n",
       "      <th>fuel</th>\n",
       "      <th>veh_class</th>\n",
       "      <th>air_pollution_score</th>\n",
       "      <th>city_mpg</th>\n",
       "      <th>hwy_mpg</th>\n",
       "      <th>cmb_mpg</th>\n",
       "      <th>greenhouse_gas_score</th>\n",
       "      <th>smartway</th>\n",
       "    </tr>\n",
       "  </thead>\n",
       "  <tbody>\n",
       "    <tr>\n",
       "      <th>0</th>\n",
       "      <td>ACURA MDX</td>\n",
       "      <td>3.7</td>\n",
       "      <td>6</td>\n",
       "      <td>Auto-S5</td>\n",
       "      <td>4WD</td>\n",
       "      <td>Gasoline</td>\n",
       "      <td>SUV</td>\n",
       "      <td>7.0</td>\n",
       "      <td>15.0</td>\n",
       "      <td>20.0</td>\n",
       "      <td>17.0</td>\n",
       "      <td>4</td>\n",
       "      <td>no</td>\n",
       "    </tr>\n",
       "  </tbody>\n",
       "</table>\n",
       "</div>"
      ],
      "text/plain": [
       "       model  displ  cyl    trans drive      fuel veh_class  \\\n",
       "0  ACURA MDX    3.7    6  Auto-S5   4WD  Gasoline       SUV   \n",
       "\n",
       "   air_pollution_score  city_mpg  hwy_mpg  cmb_mpg  greenhouse_gas_score  \\\n",
       "0                  7.0      15.0     20.0     17.0                     4   \n",
       "\n",
       "  smartway  \n",
       "0       no  "
      ]
     },
     "execution_count": 4,
     "metadata": {},
     "output_type": "execute_result"
    }
   ],
   "source": [
    "df_08.head(1)"
   ]
  },
  {
   "cell_type": "markdown",
   "metadata": {},
   "source": [
    "### Q1: Are more unique models using alternative sources of fuel? By how much?"
   ]
  },
  {
   "cell_type": "markdown",
   "metadata": {},
   "source": [
    "Let's first look at what the sources of fuel are and which ones are alternative sources."
   ]
  },
  {
   "cell_type": "code",
   "execution_count": 5,
   "metadata": {},
   "outputs": [
    {
     "data": {
      "text/plain": [
       "Gasoline    984\n",
       "CNG           1\n",
       "ethanol       1\n",
       "gas           1\n",
       "Name: fuel, dtype: int64"
      ]
     },
     "execution_count": 5,
     "metadata": {},
     "output_type": "execute_result"
    }
   ],
   "source": [
    "df_08.fuel.value_counts()"
   ]
  },
  {
   "cell_type": "code",
   "execution_count": 6,
   "metadata": {},
   "outputs": [
    {
     "data": {
      "text/plain": [
       "Gasoline       749\n",
       "Ethanol         26\n",
       "Gas             26\n",
       "Diesel          19\n",
       "Electricity     12\n",
       "Name: fuel, dtype: int64"
      ]
     },
     "execution_count": 6,
     "metadata": {},
     "output_type": "execute_result"
    }
   ],
   "source": [
    "df_18.fuel.value_counts()"
   ]
  },
  {
   "cell_type": "markdown",
   "metadata": {},
   "source": [
    "Looks like the alternative sources of fuel available in 2008 are CNG and ethanol, and those in 2018 ethanol and electricity. (You can use Google if you weren't sure which ones are alternative sources of fuel!)"
   ]
  },
  {
   "cell_type": "code",
   "execution_count": 7,
   "metadata": {},
   "outputs": [
    {
     "data": {
      "text/plain": [
       "2"
      ]
     },
     "execution_count": 7,
     "metadata": {},
     "output_type": "execute_result"
    }
   ],
   "source": [
    "# how many unique models used alternative sources of fuel in 2008\n",
    "alt_08 = df_08.query('fuel in [\"CNG\", \"ethanol\"]').model.nunique()\n",
    "alt_08"
   ]
  },
  {
   "cell_type": "code",
   "execution_count": 8,
   "metadata": {},
   "outputs": [
    {
     "data": {
      "text/plain": [
       "26"
      ]
     },
     "execution_count": 8,
     "metadata": {},
     "output_type": "execute_result"
    }
   ],
   "source": [
    "# how many unique models used alternative sources of fuel in 2018\n",
    "alt_18 = df_18.query('fuel in [\"Ethanol\", \"Electricity\"]').model.nunique()\n",
    "alt_18"
   ]
  },
  {
   "cell_type": "code",
   "execution_count": 9,
   "metadata": {},
   "outputs": [
    {
     "data": {
      "image/png": "[encoded data removed]",
      "text/plain": [
       "<Figure size 432x288 with 1 Axes>"
      ]
     },
     "metadata": {
      "needs_background": "light"
     },
     "output_type": "display_data"
    }
   ],
   "source": [
    "plt.bar([\"2008\", \"2018\"], [alt_08, alt_18])\n",
    "plt.title(\"Number of Unique Models Using Alternative Fuels\")\n",
    "plt.xlabel(\"Year\")\n",
    "plt.ylabel(\"Number of Unique Models\");"
   ]
  },
  {
   "cell_type": "markdown",
   "metadata": {},
   "source": [
    "Since 2008, the number of unique models using alternative sources of fuel increased by 24. We can also look at proportions."
   ]
  },
  {
   "cell_type": "code",
   "execution_count": 10,
   "metadata": {},
   "outputs": [
    {
     "data": {
      "text/plain": [
       "(377, 357)"
      ]
     },
     "execution_count": 10,
     "metadata": {},
     "output_type": "execute_result"
    }
   ],
   "source": [
    "# total unique models each year\n",
    "total_08 = df_08.model.nunique()\n",
    "total_18 = df_18.model.nunique()\n",
    "total_08, total_18"
   ]
  },
  {
   "cell_type": "code",
   "execution_count": 11,
   "metadata": {},
   "outputs": [
    {
     "data": {
      "text/plain": [
       "(0.005305039787798408, 0.07282913165266107)"
      ]
     },
     "execution_count": 11,
     "metadata": {},
     "output_type": "execute_result"
    }
   ],
   "source": [
    "prop_08 = alt_08/total_08\n",
    "prop_18 = alt_18/total_18\n",
    "prop_08, prop_18"
   ]
  },
  {
   "cell_type": "code",
   "execution_count": 12,
   "metadata": {},
   "outputs": [
    {
     "data": {
      "image/png": "[encoded data removed]",
      "text/plain": [
       "<Figure size 432x288 with 1 Axes>"
      ]
     },
     "metadata": {
      "needs_background": "light"
     },
     "output_type": "display_data"
    }
   ],
   "source": [
    "plt.bar([\"2008\", \"2018\"], [prop_08, prop_18])\n",
    "plt.title(\"Proportion of Unique Models Using Alternative Fuels\")\n",
    "plt.xlabel(\"Year\")\n",
    "plt.ylabel(\"Proportion of Unique Models\");"
   ]
  },
  {
   "cell_type": "markdown",
   "metadata": {},
   "source": [
    "### Q2: How much have vehicle classes improved in fuel economy?  "
   ]
  },
  {
   "cell_type": "markdown",
   "metadata": {},
   "source": [
    "Let's look at the average fuel economy for each vehicle class for both years."
   ]
  },
  {
   "cell_type": "code",
   "execution_count": 13,
   "metadata": {},
   "outputs": [
    {
     "data": {
      "text/plain": [
       "veh_class\n",
       "SUV              18.471429\n",
       "large car        18.509091\n",
       "midsize car      21.601449\n",
       "minivan          19.117647\n",
       "pickup           16.277108\n",
       "small car        21.105105\n",
       "station wagon    22.366667\n",
       "van              14.952381\n",
       "Name: cmb_mpg, dtype: float64"
      ]
     },
     "execution_count": 13,
     "metadata": {},
     "output_type": "execute_result"
    }
   ],
   "source": [
    "veh_08 = df_08.groupby('veh_class').cmb_mpg.mean()\n",
    "veh_08"
   ]
  },
  {
   "cell_type": "code",
   "execution_count": 14,
   "metadata": {},
   "outputs": [
    {
     "data": {
      "text/plain": [
       "veh_class\n",
       "large car          23.409091\n",
       "midsize car        27.884058\n",
       "minivan            20.800000\n",
       "pickup             18.589744\n",
       "small SUV          24.074074\n",
       "small car          25.421053\n",
       "special purpose    18.500000\n",
       "standard SUV       18.197674\n",
       "station wagon      27.529412\n",
       "Name: cmb_mpg, dtype: float64"
      ]
     },
     "execution_count": 14,
     "metadata": {},
     "output_type": "execute_result"
    }
   ],
   "source": [
    "veh_18 = df_18.groupby('veh_class').cmb_mpg.mean()\n",
    "veh_18"
   ]
  },
  {
   "cell_type": "code",
   "execution_count": 15,
   "metadata": {},
   "outputs": [
    {
     "data": {
      "text/plain": [
       "veh_class\n",
       "SUV                     NaN\n",
       "large car          4.900000\n",
       "midsize car        6.282609\n",
       "minivan            1.682353\n",
       "pickup             2.312635\n",
       "small SUV               NaN\n",
       "small car          4.315948\n",
       "special purpose         NaN\n",
       "standard SUV            NaN\n",
       "station wagon      5.162745\n",
       "van                     NaN\n",
       "Name: cmb_mpg, dtype: float64"
      ]
     },
     "execution_count": 15,
     "metadata": {},
     "output_type": "execute_result"
    }
   ],
   "source": [
    "# how much they've increased by for each vehicle class\n",
    "inc = veh_18 - veh_08\n",
    "inc"
   ]
  },
  {
   "cell_type": "code",
   "execution_count": 16,
   "metadata": {},
   "outputs": [
    {
     "data": {
      "image/png": "[encoded data removed]",
      "text/plain": [
       "<Figure size 576x360 with 1 Axes>"
      ]
     },
     "metadata": {
      "needs_background": "light"
     },
     "output_type": "display_data"
    }
   ],
   "source": [
    "# only plot the classes that exist in both years\n",
    "inc.dropna(inplace=True)\n",
    "plt.subplots(figsize=(8, 5))\n",
    "plt.bar(inc.index, inc)\n",
    "plt.title('Improvements in Fuel Economy from 2008 to 2018 by Vehicle Class')\n",
    "plt.xlabel('Vehicle Class')\n",
    "plt.ylabel('Increase in Average Combined MPG');"
   ]
  },
  {
   "cell_type": "markdown",
   "metadata": {},
   "source": [
    "### Q3: What are the characteristics of SmartWay vehicles? Have they changed over time?"
   ]
  },
  {
   "cell_type": "markdown",
   "metadata": {},
   "source": [
    "We can analyze this by filtering each dataframe by SmartWay classification and exploring these datasets."
   ]
  },
  {
   "cell_type": "code",
   "execution_count": 17,
   "metadata": {},
   "outputs": [
    {
     "data": {
      "text/plain": [
       "array(['no', 'yes'], dtype=object)"
      ]
     },
     "execution_count": 17,
     "metadata": {},
     "output_type": "execute_result"
    }
   ],
   "source": [
    "# smartway labels for 2008\n",
    "df_08.smartway.unique()"
   ]
  },
  {
   "cell_type": "code",
   "execution_count": 18,
   "metadata": {},
   "outputs": [],
   "source": [
    "# get all smartway vehicles in 2008\n",
    "smart_08 = df_08.query('smartway == \"yes\"')"
   ]
  },
  {
   "cell_type": "code",
   "execution_count": 19,
   "metadata": {},
   "outputs": [
    {
     "data": {
      "text/html": [
       "<div>\n",
       "<style scoped>\n",
       "    .dataframe tbody tr th:only-of-type {\n",
       "        vertical-align: middle;\n",
       "    }\n",
       "\n",
       "    .dataframe tbody tr th {\n",
       "        vertical-align: top;\n",
       "    }\n",
       "\n",
       "    .dataframe thead th {\n",
       "        text-align: right;\n",
       "    }\n",
       "</style>\n",
       "<table border=\"1\" class=\"dataframe\">\n",
       "  <thead>\n",
       "    <tr style=\"text-align: right;\">\n",
       "      <th></th>\n",
       "      <th>displ</th>\n",
       "      <th>cyl</th>\n",
       "      <th>air_pollution_score</th>\n",
       "      <th>city_mpg</th>\n",
       "      <th>hwy_mpg</th>\n",
       "      <th>cmb_mpg</th>\n",
       "      <th>greenhouse_gas_score</th>\n",
       "    </tr>\n",
       "  </thead>\n",
       "  <tbody>\n",
       "    <tr>\n",
       "      <th>count</th>\n",
       "      <td>380.000000</td>\n",
       "      <td>380.000000</td>\n",
       "      <td>380.000000</td>\n",
       "      <td>380.000000</td>\n",
       "      <td>380.000000</td>\n",
       "      <td>380.000000</td>\n",
       "      <td>380.000000</td>\n",
       "    </tr>\n",
       "    <tr>\n",
       "      <th>mean</th>\n",
       "      <td>2.602895</td>\n",
       "      <td>4.826316</td>\n",
       "      <td>7.365789</td>\n",
       "      <td>20.984211</td>\n",
       "      <td>28.413158</td>\n",
       "      <td>23.736842</td>\n",
       "      <td>6.868421</td>\n",
       "    </tr>\n",
       "    <tr>\n",
       "      <th>std</th>\n",
       "      <td>0.623436</td>\n",
       "      <td>1.002025</td>\n",
       "      <td>1.148195</td>\n",
       "      <td>3.442672</td>\n",
       "      <td>3.075194</td>\n",
       "      <td>3.060379</td>\n",
       "      <td>0.827338</td>\n",
       "    </tr>\n",
       "    <tr>\n",
       "      <th>min</th>\n",
       "      <td>1.300000</td>\n",
       "      <td>4.000000</td>\n",
       "      <td>6.000000</td>\n",
       "      <td>17.000000</td>\n",
       "      <td>22.000000</td>\n",
       "      <td>20.000000</td>\n",
       "      <td>6.000000</td>\n",
       "    </tr>\n",
       "    <tr>\n",
       "      <th>25%</th>\n",
       "      <td>2.275000</td>\n",
       "      <td>4.000000</td>\n",
       "      <td>7.000000</td>\n",
       "      <td>19.000000</td>\n",
       "      <td>26.000000</td>\n",
       "      <td>22.000000</td>\n",
       "      <td>6.000000</td>\n",
       "    </tr>\n",
       "    <tr>\n",
       "      <th>50%</th>\n",
       "      <td>2.400000</td>\n",
       "      <td>4.000000</td>\n",
       "      <td>7.000000</td>\n",
       "      <td>20.000000</td>\n",
       "      <td>28.000000</td>\n",
       "      <td>23.000000</td>\n",
       "      <td>7.000000</td>\n",
       "    </tr>\n",
       "    <tr>\n",
       "      <th>75%</th>\n",
       "      <td>3.000000</td>\n",
       "      <td>6.000000</td>\n",
       "      <td>7.000000</td>\n",
       "      <td>22.000000</td>\n",
       "      <td>30.000000</td>\n",
       "      <td>25.000000</td>\n",
       "      <td>7.000000</td>\n",
       "    </tr>\n",
       "    <tr>\n",
       "      <th>max</th>\n",
       "      <td>5.000000</td>\n",
       "      <td>8.000000</td>\n",
       "      <td>9.500000</td>\n",
       "      <td>48.000000</td>\n",
       "      <td>45.000000</td>\n",
       "      <td>46.000000</td>\n",
       "      <td>10.000000</td>\n",
       "    </tr>\n",
       "  </tbody>\n",
       "</table>\n",
       "</div>"
      ],
      "text/plain": [
       "            displ         cyl  air_pollution_score    city_mpg     hwy_mpg  \\\n",
       "count  380.000000  380.000000           380.000000  380.000000  380.000000   \n",
       "mean     2.602895    4.826316             7.365789   20.984211   28.413158   \n",
       "std      0.623436    1.002025             1.148195    3.442672    3.075194   \n",
       "min      1.300000    4.000000             6.000000   17.000000   22.000000   \n",
       "25%      2.275000    4.000000             7.000000   19.000000   26.000000   \n",
       "50%      2.400000    4.000000             7.000000   20.000000   28.000000   \n",
       "75%      3.000000    6.000000             7.000000   22.000000   30.000000   \n",
       "max      5.000000    8.000000             9.500000   48.000000   45.000000   \n",
       "\n",
       "          cmb_mpg  greenhouse_gas_score  \n",
       "count  380.000000            380.000000  \n",
       "mean    23.736842              6.868421  \n",
       "std      3.060379              0.827338  \n",
       "min     20.000000              6.000000  \n",
       "25%     22.000000              6.000000  \n",
       "50%     23.000000              7.000000  \n",
       "75%     25.000000              7.000000  \n",
       "max     46.000000             10.000000  "
      ]
     },
     "execution_count": 19,
     "metadata": {},
     "output_type": "execute_result"
    }
   ],
   "source": [
    "# explore smartway vehicles in 2008\n",
    "smart_08.describe()"
   ]
  },
  {
   "cell_type": "markdown",
   "metadata": {},
   "source": [
    "Use what you've learned so for to further explore this dataset on 2008 smartway vehicles."
   ]
  },
  {
   "cell_type": "code",
   "execution_count": 20,
   "metadata": {},
   "outputs": [
    {
     "data": {
      "text/plain": [
       "array(['No', 'Yes', 'Elite'], dtype=object)"
      ]
     },
     "execution_count": 20,
     "metadata": {},
     "output_type": "execute_result"
    }
   ],
   "source": [
    "# smartway labels for 2018\n",
    "df_18.smartway.unique()"
   ]
  },
  {
   "cell_type": "code",
   "execution_count": 21,
   "metadata": {},
   "outputs": [],
   "source": [
    "# get all smartway vehicles in 2018\n",
    "smart_18 = df_18.query('smartway in [\"Yes\", \"Elite\"]')"
   ]
  },
  {
   "cell_type": "code",
   "execution_count": 22,
   "metadata": {},
   "outputs": [
    {
     "data": {
      "text/html": [
       "<div>\n",
       "<style scoped>\n",
       "    .dataframe tbody tr th:only-of-type {\n",
       "        vertical-align: middle;\n",
       "    }\n",
       "\n",
       "    .dataframe tbody tr th {\n",
       "        vertical-align: top;\n",
       "    }\n",
       "\n",
       "    .dataframe thead th {\n",
       "        text-align: right;\n",
       "    }\n",
       "</style>\n",
       "<table border=\"1\" class=\"dataframe\">\n",
       "  <thead>\n",
       "    <tr style=\"text-align: right;\">\n",
       "      <th></th>\n",
       "      <th>displ</th>\n",
       "      <th>cyl</th>\n",
       "      <th>air_pollution_score</th>\n",
       "      <th>city_mpg</th>\n",
       "      <th>hwy_mpg</th>\n",
       "      <th>cmb_mpg</th>\n",
       "      <th>greenhouse_gas_score</th>\n",
       "    </tr>\n",
       "  </thead>\n",
       "  <tbody>\n",
       "    <tr>\n",
       "      <th>count</th>\n",
       "      <td>108.000000</td>\n",
       "      <td>108.000000</td>\n",
       "      <td>108.000000</td>\n",
       "      <td>108.000000</td>\n",
       "      <td>108.000000</td>\n",
       "      <td>108.000000</td>\n",
       "      <td>108.000000</td>\n",
       "    </tr>\n",
       "    <tr>\n",
       "      <th>mean</th>\n",
       "      <td>1.787963</td>\n",
       "      <td>3.935185</td>\n",
       "      <td>5.212963</td>\n",
       "      <td>34.907407</td>\n",
       "      <td>41.472222</td>\n",
       "      <td>37.361111</td>\n",
       "      <td>7.925926</td>\n",
       "    </tr>\n",
       "    <tr>\n",
       "      <th>std</th>\n",
       "      <td>0.408031</td>\n",
       "      <td>0.416329</td>\n",
       "      <td>1.798498</td>\n",
       "      <td>16.431982</td>\n",
       "      <td>13.095236</td>\n",
       "      <td>14.848429</td>\n",
       "      <td>1.197378</td>\n",
       "    </tr>\n",
       "    <tr>\n",
       "      <th>min</th>\n",
       "      <td>1.200000</td>\n",
       "      <td>3.000000</td>\n",
       "      <td>3.000000</td>\n",
       "      <td>25.000000</td>\n",
       "      <td>27.000000</td>\n",
       "      <td>26.000000</td>\n",
       "      <td>7.000000</td>\n",
       "    </tr>\n",
       "    <tr>\n",
       "      <th>25%</th>\n",
       "      <td>1.500000</td>\n",
       "      <td>4.000000</td>\n",
       "      <td>3.000000</td>\n",
       "      <td>28.000000</td>\n",
       "      <td>36.000000</td>\n",
       "      <td>31.000000</td>\n",
       "      <td>7.000000</td>\n",
       "    </tr>\n",
       "    <tr>\n",
       "      <th>50%</th>\n",
       "      <td>1.700000</td>\n",
       "      <td>4.000000</td>\n",
       "      <td>5.500000</td>\n",
       "      <td>28.500000</td>\n",
       "      <td>37.000000</td>\n",
       "      <td>32.000000</td>\n",
       "      <td>7.000000</td>\n",
       "    </tr>\n",
       "    <tr>\n",
       "      <th>75%</th>\n",
       "      <td>2.000000</td>\n",
       "      <td>4.000000</td>\n",
       "      <td>7.000000</td>\n",
       "      <td>31.250000</td>\n",
       "      <td>40.250000</td>\n",
       "      <td>35.000000</td>\n",
       "      <td>9.000000</td>\n",
       "    </tr>\n",
       "    <tr>\n",
       "      <th>max</th>\n",
       "      <td>3.500000</td>\n",
       "      <td>6.000000</td>\n",
       "      <td>7.000000</td>\n",
       "      <td>113.000000</td>\n",
       "      <td>99.000000</td>\n",
       "      <td>106.000000</td>\n",
       "      <td>10.000000</td>\n",
       "    </tr>\n",
       "  </tbody>\n",
       "</table>\n",
       "</div>"
      ],
      "text/plain": [
       "            displ         cyl  air_pollution_score    city_mpg     hwy_mpg  \\\n",
       "count  108.000000  108.000000           108.000000  108.000000  108.000000   \n",
       "mean     1.787963    3.935185             5.212963   34.907407   41.472222   \n",
       "std      0.408031    0.416329             1.798498   16.431982   13.095236   \n",
       "min      1.200000    3.000000             3.000000   25.000000   27.000000   \n",
       "25%      1.500000    4.000000             3.000000   28.000000   36.000000   \n",
       "50%      1.700000    4.000000             5.500000   28.500000   37.000000   \n",
       "75%      2.000000    4.000000             7.000000   31.250000   40.250000   \n",
       "max      3.500000    6.000000             7.000000  113.000000   99.000000   \n",
       "\n",
       "          cmb_mpg  greenhouse_gas_score  \n",
       "count  108.000000            108.000000  \n",
       "mean    37.361111              7.925926  \n",
       "std     14.848429              1.197378  \n",
       "min     26.000000              7.000000  \n",
       "25%     31.000000              7.000000  \n",
       "50%     32.000000              7.000000  \n",
       "75%     35.000000              9.000000  \n",
       "max    106.000000             10.000000  "
      ]
     },
     "execution_count": 22,
     "metadata": {},
     "output_type": "execute_result"
    }
   ],
   "source": [
    "smart_18.describe()"
   ]
  },
  {
   "cell_type": "markdown",
   "metadata": {},
   "source": [
    "Use what you've learned so for to further explore this dataset on 2018 smartway vehicles."
   ]
  },
  {
   "cell_type": "markdown",
   "metadata": {},
   "source": [
    "### Q4: What features are associated with better fuel economy?"
   ]
  },
  {
   "cell_type": "markdown",
   "metadata": {},
   "source": [
    "You can explore trends between cmb_mpg and the other features in this dataset, or filter this dataset like in the previous question and explore the properties of that dataset. For example, you can select all vehicles that have the top 50% fuel economy ratings like this."
   ]
  },
  {
   "cell_type": "code",
   "execution_count": 23,
   "metadata": {},
   "outputs": [
    {
     "data": {
      "text/html": [
       "<div>\n",
       "<style scoped>\n",
       "    .dataframe tbody tr th:only-of-type {\n",
       "        vertical-align: middle;\n",
       "    }\n",
       "\n",
       "    .dataframe tbody tr th {\n",
       "        vertical-align: top;\n",
       "    }\n",
       "\n",
       "    .dataframe thead th {\n",
       "        text-align: right;\n",
       "    }\n",
       "</style>\n",
       "<table border=\"1\" class=\"dataframe\">\n",
       "  <thead>\n",
       "    <tr style=\"text-align: right;\">\n",
       "      <th></th>\n",
       "      <th>displ</th>\n",
       "      <th>cyl</th>\n",
       "      <th>air_pollution_score</th>\n",
       "      <th>city_mpg</th>\n",
       "      <th>hwy_mpg</th>\n",
       "      <th>cmb_mpg</th>\n",
       "      <th>greenhouse_gas_score</th>\n",
       "    </tr>\n",
       "  </thead>\n",
       "  <tbody>\n",
       "    <tr>\n",
       "      <th>count</th>\n",
       "      <td>519.000000</td>\n",
       "      <td>519.000000</td>\n",
       "      <td>519.000000</td>\n",
       "      <td>519.000000</td>\n",
       "      <td>519.000000</td>\n",
       "      <td>519.000000</td>\n",
       "      <td>519.000000</td>\n",
       "    </tr>\n",
       "    <tr>\n",
       "      <th>mean</th>\n",
       "      <td>2.667823</td>\n",
       "      <td>4.890173</td>\n",
       "      <td>6.998073</td>\n",
       "      <td>20.317919</td>\n",
       "      <td>27.603083</td>\n",
       "      <td>22.992293</td>\n",
       "      <td>6.639692</td>\n",
       "    </tr>\n",
       "    <tr>\n",
       "      <th>std</th>\n",
       "      <td>0.665551</td>\n",
       "      <td>1.034856</td>\n",
       "      <td>1.159565</td>\n",
       "      <td>3.198257</td>\n",
       "      <td>3.051120</td>\n",
       "      <td>2.926371</td>\n",
       "      <td>0.804935</td>\n",
       "    </tr>\n",
       "    <tr>\n",
       "      <th>min</th>\n",
       "      <td>1.300000</td>\n",
       "      <td>4.000000</td>\n",
       "      <td>4.000000</td>\n",
       "      <td>17.000000</td>\n",
       "      <td>20.000000</td>\n",
       "      <td>20.000000</td>\n",
       "      <td>6.000000</td>\n",
       "    </tr>\n",
       "    <tr>\n",
       "      <th>25%</th>\n",
       "      <td>2.300000</td>\n",
       "      <td>4.000000</td>\n",
       "      <td>6.000000</td>\n",
       "      <td>18.000000</td>\n",
       "      <td>25.000000</td>\n",
       "      <td>21.000000</td>\n",
       "      <td>6.000000</td>\n",
       "    </tr>\n",
       "    <tr>\n",
       "      <th>50%</th>\n",
       "      <td>2.500000</td>\n",
       "      <td>4.000000</td>\n",
       "      <td>7.000000</td>\n",
       "      <td>20.000000</td>\n",
       "      <td>27.000000</td>\n",
       "      <td>22.000000</td>\n",
       "      <td>6.000000</td>\n",
       "    </tr>\n",
       "    <tr>\n",
       "      <th>75%</th>\n",
       "      <td>3.000000</td>\n",
       "      <td>6.000000</td>\n",
       "      <td>7.000000</td>\n",
       "      <td>21.000000</td>\n",
       "      <td>29.000000</td>\n",
       "      <td>24.000000</td>\n",
       "      <td>7.000000</td>\n",
       "    </tr>\n",
       "    <tr>\n",
       "      <th>max</th>\n",
       "      <td>6.000000</td>\n",
       "      <td>8.000000</td>\n",
       "      <td>9.500000</td>\n",
       "      <td>48.000000</td>\n",
       "      <td>45.000000</td>\n",
       "      <td>46.000000</td>\n",
       "      <td>10.000000</td>\n",
       "    </tr>\n",
       "  </tbody>\n",
       "</table>\n",
       "</div>"
      ],
      "text/plain": [
       "            displ         cyl  air_pollution_score    city_mpg     hwy_mpg  \\\n",
       "count  519.000000  519.000000           519.000000  519.000000  519.000000   \n",
       "mean     2.667823    4.890173             6.998073   20.317919   27.603083   \n",
       "std      0.665551    1.034856             1.159565    3.198257    3.051120   \n",
       "min      1.300000    4.000000             4.000000   17.000000   20.000000   \n",
       "25%      2.300000    4.000000             6.000000   18.000000   25.000000   \n",
       "50%      2.500000    4.000000             7.000000   20.000000   27.000000   \n",
       "75%      3.000000    6.000000             7.000000   21.000000   29.000000   \n",
       "max      6.000000    8.000000             9.500000   48.000000   45.000000   \n",
       "\n",
       "          cmb_mpg  greenhouse_gas_score  \n",
       "count  519.000000            519.000000  \n",
       "mean    22.992293              6.639692  \n",
       "std      2.926371              0.804935  \n",
       "min     20.000000              6.000000  \n",
       "25%     21.000000              6.000000  \n",
       "50%     22.000000              6.000000  \n",
       "75%     24.000000              7.000000  \n",
       "max     46.000000             10.000000  "
      ]
     },
     "execution_count": 23,
     "metadata": {},
     "output_type": "execute_result"
    }
   ],
   "source": [
    "top_08 = df_08.query('cmb_mpg > cmb_mpg.mean()')\n",
    "top_08.describe()"
   ]
  },
  {
   "cell_type": "code",
   "execution_count": 24,
   "metadata": {},
   "outputs": [
    {
     "data": {
      "text/html": [
       "<div>\n",
       "<style scoped>\n",
       "    .dataframe tbody tr th:only-of-type {\n",
       "        vertical-align: middle;\n",
       "    }\n",
       "\n",
       "    .dataframe tbody tr th {\n",
       "        vertical-align: top;\n",
       "    }\n",
       "\n",
       "    .dataframe thead th {\n",
       "        text-align: right;\n",
       "    }\n",
       "</style>\n",
       "<table border=\"1\" class=\"dataframe\">\n",
       "  <thead>\n",
       "    <tr style=\"text-align: right;\">\n",
       "      <th></th>\n",
       "      <th>displ</th>\n",
       "      <th>cyl</th>\n",
       "      <th>air_pollution_score</th>\n",
       "      <th>city_mpg</th>\n",
       "      <th>hwy_mpg</th>\n",
       "      <th>cmb_mpg</th>\n",
       "      <th>greenhouse_gas_score</th>\n",
       "    </tr>\n",
       "  </thead>\n",
       "  <tbody>\n",
       "    <tr>\n",
       "      <th>count</th>\n",
       "      <td>328.000000</td>\n",
       "      <td>328.000000</td>\n",
       "      <td>328.000000</td>\n",
       "      <td>328.000000</td>\n",
       "      <td>328.000000</td>\n",
       "      <td>328.000000</td>\n",
       "      <td>328.000000</td>\n",
       "    </tr>\n",
       "    <tr>\n",
       "      <th>mean</th>\n",
       "      <td>1.964329</td>\n",
       "      <td>4.021341</td>\n",
       "      <td>4.856707</td>\n",
       "      <td>27.472561</td>\n",
       "      <td>35.304878</td>\n",
       "      <td>30.411585</td>\n",
       "      <td>6.329268</td>\n",
       "    </tr>\n",
       "    <tr>\n",
       "      <th>std</th>\n",
       "      <td>0.398593</td>\n",
       "      <td>0.465477</td>\n",
       "      <td>1.860802</td>\n",
       "      <td>11.033692</td>\n",
       "      <td>9.024857</td>\n",
       "      <td>10.081539</td>\n",
       "      <td>1.410358</td>\n",
       "    </tr>\n",
       "    <tr>\n",
       "      <th>min</th>\n",
       "      <td>1.200000</td>\n",
       "      <td>3.000000</td>\n",
       "      <td>1.000000</td>\n",
       "      <td>21.000000</td>\n",
       "      <td>27.000000</td>\n",
       "      <td>25.000000</td>\n",
       "      <td>4.000000</td>\n",
       "    </tr>\n",
       "    <tr>\n",
       "      <th>25%</th>\n",
       "      <td>1.600000</td>\n",
       "      <td>4.000000</td>\n",
       "      <td>3.000000</td>\n",
       "      <td>23.000000</td>\n",
       "      <td>31.000000</td>\n",
       "      <td>26.000000</td>\n",
       "      <td>5.000000</td>\n",
       "    </tr>\n",
       "    <tr>\n",
       "      <th>50%</th>\n",
       "      <td>2.000000</td>\n",
       "      <td>4.000000</td>\n",
       "      <td>5.000000</td>\n",
       "      <td>25.000000</td>\n",
       "      <td>33.000000</td>\n",
       "      <td>28.000000</td>\n",
       "      <td>6.000000</td>\n",
       "    </tr>\n",
       "    <tr>\n",
       "      <th>75%</th>\n",
       "      <td>2.000000</td>\n",
       "      <td>4.000000</td>\n",
       "      <td>7.000000</td>\n",
       "      <td>28.000000</td>\n",
       "      <td>36.000000</td>\n",
       "      <td>31.000000</td>\n",
       "      <td>7.000000</td>\n",
       "    </tr>\n",
       "    <tr>\n",
       "      <th>max</th>\n",
       "      <td>3.500000</td>\n",
       "      <td>6.000000</td>\n",
       "      <td>7.000000</td>\n",
       "      <td>113.000000</td>\n",
       "      <td>99.000000</td>\n",
       "      <td>106.000000</td>\n",
       "      <td>10.000000</td>\n",
       "    </tr>\n",
       "  </tbody>\n",
       "</table>\n",
       "</div>"
      ],
      "text/plain": [
       "            displ         cyl  air_pollution_score    city_mpg     hwy_mpg  \\\n",
       "count  328.000000  328.000000           328.000000  328.000000  328.000000   \n",
       "mean     1.964329    4.021341             4.856707   27.472561   35.304878   \n",
       "std      0.398593    0.465477             1.860802   11.033692    9.024857   \n",
       "min      1.200000    3.000000             1.000000   21.000000   27.000000   \n",
       "25%      1.600000    4.000000             3.000000   23.000000   31.000000   \n",
       "50%      2.000000    4.000000             5.000000   25.000000   33.000000   \n",
       "75%      2.000000    4.000000             7.000000   28.000000   36.000000   \n",
       "max      3.500000    6.000000             7.000000  113.000000   99.000000   \n",
       "\n",
       "          cmb_mpg  greenhouse_gas_score  \n",
       "count  328.000000            328.000000  \n",
       "mean    30.411585              6.329268  \n",
       "std     10.081539              1.410358  \n",
       "min     25.000000              4.000000  \n",
       "25%     26.000000              5.000000  \n",
       "50%     28.000000              6.000000  \n",
       "75%     31.000000              7.000000  \n",
       "max    106.000000             10.000000  "
      ]
     },
     "execution_count": 24,
     "metadata": {},
     "output_type": "execute_result"
    }
   ],
   "source": [
    "top_18 = df_18.query('cmb_mpg > cmb_mpg.mean()')\n",
    "top_18.describe()"
   ]
  },
  {
   "cell_type": "code",
   "execution_count": null,
   "metadata": {},
   "outputs": [],
   "source": []
  }
 ],
 "metadata": {
  "kernelspec": {
   "display_name": "Python 3 (ipykernel)",
   "language": "python",
   "name": "python3"
  },
  "language_info": {
   "codemirror_mode": {
    "name": "ipython",
    "version": 3
   },
   "file_extension": ".py",
   "mimetype": "text/x-python",
   "name": "python",
   "nbconvert_exporter": "python",
   "pygments_lexer": "ipython3",
   "version": "3.9.7"
  }
 },
 "nbformat": 4,
 "nbformat_minor": 2
}
